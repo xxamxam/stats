{
 "cells": [
  {
   "cell_type": "code",
   "execution_count": 22,
   "metadata": {},
   "outputs": [],
   "source": [
    "import numpy as np\n",
    "from scipy.stats import multivariate_normal\n",
    "import matplotlib.pyplot as plt\n",
    "import warnings\n",
    "warnings.filterwarnings(\"ignore\", category=DeprecationWarning)\n",
    "\n",
    "def plot(Z):\n",
    "    plt.plot(Z[:,0], Z[:, 1], 'x')\n",
    "    plt.show()\n",
    "    return\n",
    "def generate(m, n, d, noize = 1.):\n",
    "    # np.random.seed(123)\n",
    "    # определяем параметры\n",
    "    sigma = noize\n",
    "    W = np.random.randn(n, d) * 3  + 2\n",
    "\n",
    "    Z = np.random.normal(size = (m, d))\n",
    "    eps = np.random.normal(loc = 0, scale= sigma**0.5, size = (m, n))\n",
    "    X  = Z @ W.T + eps\n",
    "    return X, Z, W\n",
    "\n",
    "def Evidence(X, W, mu, sigma):\n",
    "    # используется чтобы проверять сходимость алгоритма\n",
    "    nn = multivariate_normal(mean = mu, cov = W @ W.T + sigma**2 * np.eye(W.shape[0])).pdf(X)\n",
    "    return np.sum(np.log(nn))\n",
    "\n",
    "def EM(X, m, n, d, max_iters = 10):\n",
    "    # не знаем какие могут быть параметры, так что берем случайные\n",
    "    W = np.random.rand(n, d) \n",
    "    mu = np.random.rand(n,) \n",
    "    sigma = np.random.rand() + 0.5\n",
    "\n",
    "    B_inv = np.eye(d)\n",
    "    mu_params = np.zeros(d)\n",
    "    def E(X, W_s, mu_s, sigma_s):\n",
    "        # пересчитываем параметры для каждого z_i\n",
    "        B = (sigma_s **2 * np.eye(d) + W_s.T @ W_s) \n",
    "        B_inv = np.linalg.inv(B)\n",
    "        tmp =  B_inv @ W_s.T\n",
    "        mu_params =  (X - mu_s[None, :]) @ tmp.T\n",
    "        return sigma_s **2 * B_inv, mu_params\n",
    "    \n",
    "    def M_sigma(X, B_inv, mu_params, W_s, mu_s, sigma_s):\n",
    "        X_central = X - mu_s[None,:]\n",
    "        WW = W_s.T @ W_s\n",
    "        Wmu = mu_params @ W_s.T\n",
    "        T_s = np.sum((X_central)**2) -2 * np.sum(X_central * (Wmu)) + np.sum(Wmu * Wmu) + m * np.trace(WW @ B_inv) # * m\n",
    "        sigma_next = (T_s / (m * n)) ** 0.5\n",
    "        return sigma_next\n",
    "    def M_mu(X, B_inv, mu_params, W_s, mu_s, sigma_s):\n",
    "        mu_next = np.mean(X, axis = 0) # - (mu_params) @ W_s.T, axis= 0)\n",
    "        return mu_next\n",
    "    def M_W(X, B_inv, mu_params, W_s, mu_s, sigma_s):\n",
    "        X_central = X - mu_s[None,:]\n",
    "        W_next = ( 1./m * np.sum(X_central[i][:, None] @ mu_params[i][None,:] for i in range(m))) @ np.linalg.inv(B_inv + 1./m * np.sum(mu_params[i][:, None] @ mu_params[i][None,:] for i in range(m)))\n",
    "        return W_next\n",
    "\n",
    "    evidences = []\n",
    "    for i in range(max_iters):\n",
    "        B_inv, mu_params = E(X, W, mu, sigma)\n",
    "        evidences.append(Evidence(X, W, mu, sigma))\n",
    "        sigma = M_sigma(X, B_inv, mu_params, W, mu, sigma)\n",
    "\n",
    "        evidences.append(Evidence(X, W, mu, sigma))\n",
    "\n",
    "        B_inv, mu_params = E(X, W, mu, sigma)\n",
    "        evidences.append(Evidence(X, W, mu, sigma))\n",
    "        mu = M_mu(X, B_inv, mu_params, W, mu, sigma)\n",
    "\n",
    "        evidences.append(Evidence(X, W, mu, sigma))\n",
    "        \n",
    "        B_inv, mu_params = E(X, W, mu, sigma)\n",
    "        evidences.append(Evidence(X, W, mu, sigma))\n",
    "        W = M_W(X, B_inv, mu_params, W, mu, sigma)\n",
    "        evidences.append(Evidence(X, W, mu, sigma))\n",
    "\n",
    "    plt.plot(evidences, '.')\n",
    "    # plt.yscale('log')\n",
    "    plt.ylabel(\"evidence\")\n",
    "    plt.show()\n",
    "    return W, mu, sigma, evidences\n"
   ]
  },
  {
   "cell_type": "code",
   "execution_count": 27,
   "metadata": {},
   "outputs": [
    {
     "name": "stderr",
     "output_type": "stream",
     "text": [
      "/var/folders/ks/7b2rqlpx6j54hmxc16v83p980000gn/T/ipykernel_8077/4237661754.py:25: RuntimeWarning: divide by zero encountered in log\n",
      "  return np.sum(np.log(nn))\n"
     ]
    },
    {
     "data": {
      "image/png": "[encoded data removed]",
      "text/plain": [
       "<Figure size 640x480 with 1 Axes>"
      ]
     },
     "metadata": {},
     "output_type": "display_data"
    }
   ],
   "source": [
    "m = 1000\n",
    "n = 10\n",
    "d = 2\n",
    "\n",
    "sigma_true = 1.\n",
    "X, Z_true, W_true = generate(m, n, d, sigma_true)\n",
    "W, mu, sigma, evs = EM(X, m, n, d, max_iters= 50)"
   ]
  },
  {
   "cell_type": "code",
   "execution_count": 24,
   "metadata": {},
   "outputs": [
    {
     "data": {
      "text/plain": [
       "(array([[ 0.28491868, -0.34425459],\n",
       "        [-0.16863864, -0.50225888],\n",
       "        [ 0.10807862,  0.47935667],\n",
       "        [ 0.3337258 , -0.19132173],\n",
       "        [ 0.21614271,  0.46532362],\n",
       "        [ 0.77728587, -0.2056808 ],\n",
       "        [ 0.17967737,  0.12288582],\n",
       "        [ 0.24216976,  0.2928408 ],\n",
       "        [ 0.15041163, -0.05605542],\n",
       "        [-0.05369973, -0.00290458]]),\n",
       " array([ 0.06701208,  0.13257336, -0.12645118,  0.02096608, -0.14598109,\n",
       "        -0.04371999, -0.01217837, -0.14084755, -0.03945642,  0.00444285]),\n",
       " 1.0225980718674599)"
      ]
     },
     "execution_count": 24,
     "metadata": {},
     "output_type": "execute_result"
    }
   ],
   "source": [
    "from sklearn.decomposition import PCA\n",
    "\n",
    "pca = PCA(n_components= 2).fit(X)\n",
    "pca.components_.T, pca.mean_, pca.noise_variance_"
   ]
  },
  {
   "cell_type": "code",
   "execution_count": 28,
   "metadata": {},
   "outputs": [
    {
     "name": "stdout",
     "output_type": "stream",
     "text": [
      "evidence с правильными параметрами: -19524.561153214934\n",
      "evidence полученный в итоге тренировки: -19523.282099074604\n"
     ]
    }
   ],
   "source": [
    "print(f\"evidence с правильными параметрами: {Evidence(X, W, mu, 1)}\")\n",
    "print(f\"evidence полученный в итоге тренировки: {evs}\")"
   ]
  },
  {
   "cell_type": "markdown",
   "metadata": {},
   "source": [
    "Видим, что полученный evidence такой же как у данных с исходными параметрами."
   ]
  },
  {
   "cell_type": "markdown",
   "metadata": {},
   "source": [
    "# bayessian PCA"
   ]
  },
  {
   "cell_type": "code",
   "execution_count": 56,
   "metadata": {},
   "outputs": [],
   "source": [
    "\n",
    "def Evidence(X, W, mu, sigma):\n",
    "    # используется чтобы проверять сходимость алгоритма\n",
    "    nn = multivariate_normal( allow_singular= True, mean = mu, cov = W @ W.T + sigma**2 * np.eye(W.shape[0])).pdf(X)\n",
    "    return np.sum(np.log(nn))\n",
    "\n",
    "def VarEM(X, m, n, d, max_iters = 10):\n",
    "    # не знаем какие могут быть параметры, так что берем случайные\n",
    "    alpha = np.random.rand(d) + 1 # чтобы отделить от 0\n",
    "    mu = np.random.rand(n,)\n",
    "    sigma = np.random.rand()\n",
    "\n",
    "    Z_mu = np.stack([np.random.randn(d) for i in range(m)], axis = 0)* 0.1 + 1e-2 # z_i строка. m x d \n",
    "    Z_sigma = np.eye(d)\n",
    "\n",
    "    W_mu = np.stack([np.random.randn(n) for i in range(d)], axis=1)  # w_i - столбец n x d\n",
    "    W_sigma = np.diag(alpha)\n",
    "\n",
    "    def E_z(X, alpha_s, mu_s, sigma_s, W_mu, W_sigma):\n",
    "        B = (sigma_s **2) * np.eye(d) + W_mu.T @ W_mu\n",
    "        B_inv = np.linalg.inv(B)\n",
    "        tmp = B_inv @ W_mu.T\n",
    "        mu_params = (X - mu_s[None, :]) @ tmp.T\n",
    "        return sigma_s **2  * B_inv, mu_params\n",
    "    \n",
    "    def E_w(X, alpha_s, mu_s, sigma_s, Z_mu, Z_sigma):\n",
    "        X_central = X - mu_s[None,:]\n",
    "        W_next = ( np.sum(X_central[i][:, None] @ Z_mu[i][None,:] for i in range(m))) @ np.linalg.inv(m * Z_sigma +  np.sum(Z_mu[i][:, None] @ Z_mu[i][None,:] for i in range(m)) + np.diag(alpha_s))\n",
    "        return 0, W_next\n",
    "    \n",
    "\n",
    "    def M_sigma(X, Z_mu, Z_sigma, W_mu, W_sigma, alpha_s, mu_s, sigma_s):\n",
    "        # print(X.shape, Z_sigma.shape, W_mu.shape, mu_s.shape)\n",
    "        \n",
    "        X_central = X - mu_s[None,:]\n",
    "        WW = W_mu.T @ W_mu\n",
    "        Wmu = Z_mu @ W_mu.T\n",
    "        T_s = np.sum((X_central)**2) -2 * np.sum(X_central * (Wmu)) + np.sum(Wmu * Wmu) + m * np.trace(WW @ Z_sigma) # * m\n",
    "        sigma_next = (T_s / (m * n)) ** 0.5\n",
    "        return sigma_next\n",
    "    def M_alpha(X, Z_mu, Z_sigma, W_mu, W_sigma, alpha_s, mu_s, sigma_s):\n",
    "        w_s = np.sum(W_mu * W_mu, axis = 0) \n",
    "        return d / w_s\n",
    "    def M_mu(X):\n",
    "        return np.mean(X, axis= 0)\n",
    "    \n",
    "    evidences = []\n",
    "    parts = [0]\n",
    "    alphas = []\n",
    "    evidences.append(Evidence(X, W_mu, mu, sigma))\n",
    "    for i in range(max_iters):\n",
    "        alphas.append(alpha)\n",
    "        Z_sigma, Z_mu = E_z(X, alpha, mu, sigma, W_mu, W_sigma)\n",
    "        evidences.append(Evidence(X, W_mu, mu, sigma))\n",
    "        parts.append(f\"{i},1\")\n",
    "\n",
    "        W_sigma, W_mu = E_w(X, alpha, mu, sigma, Z_mu, Z_sigma)\n",
    "        evidences.append(Evidence(X, W_mu, mu, sigma))\n",
    "        parts.append(f\"{i},2\")\n",
    "\n",
    "        sigma = M_sigma(X, Z_mu, Z_sigma, W_mu, W_sigma, alpha, mu, sigma )\n",
    "        evidences.append(Evidence(X, W_mu, mu, sigma))\n",
    "        parts.append(f\"{i},3\")\n",
    "\n",
    "        Z_sigma, Z_mu = E_z(X, alpha, mu, sigma, W_mu, W_sigma)\n",
    "        evidences.append(Evidence(X, W_mu, mu, sigma))\n",
    "        parts.append(f\"{i},4\")\n",
    "\n",
    "        W_sigma, W_mu = E_w(X, alpha, mu, sigma, Z_mu, Z_sigma)\n",
    "        evidences.append(Evidence(X, W_mu, mu, sigma))\n",
    "        parts.append(f\"{i},5\")\n",
    "\n",
    "        alpha = M_alpha(X, Z_mu, Z_sigma, W_mu, W_sigma, alpha, mu, sigma )\n",
    "        evidences.append(Evidence(X, W_mu, mu, sigma))\n",
    "        parts.append(f\"{i},6\")\n",
    "\n",
    "        Z_sigma, Z_mu = E_z(X, alpha, mu, sigma, W_mu, W_sigma)\n",
    "        evidences.append(Evidence(X, W_mu, mu, sigma))\n",
    "        parts.append(f\"{i},7\")\n",
    "\n",
    "        W_sigma, W_mu = E_w(X, alpha, mu, sigma, Z_mu, Z_sigma)\n",
    "        evidences.append(Evidence(X, W_mu, mu, sigma))\n",
    "        parts.append(f\"{i},8\")\n",
    "        \n",
    "        mu = M_mu(X) #, Z_mu, Z_sigma, W_mu, W_sigma, alpha, mu, sigma )\n",
    "        evidences.append(Evidence(X, W_mu, mu, sigma))\n",
    "        parts.append(f\"{i},9\")\n",
    "\n",
    "    plt.plot(parts, evidences)\n",
    "    # plt.yscale('log')\n",
    "    plt.ylabel(\"evidence\")\n",
    "    plt.show()\n",
    "\n",
    "    return alphas, mu, sigma, W_mu, W_sigma, evidences"
   ]
  },
  {
   "cell_type": "code",
   "execution_count": 59,
   "metadata": {},
   "outputs": [
    {
     "name": "stderr",
     "output_type": "stream",
     "text": [
      "/var/folders/ks/7b2rqlpx6j54hmxc16v83p980000gn/T/ipykernel_8077/3056588059.py:42: RuntimeWarning: divide by zero encountered in divide\n",
      "  return d / w_s\n"
     ]
    },
    {
     "data": {
      "image/png": "[encoded data removed]",
      "text/plain": [
       "<Figure size 640x480 with 1 Axes>"
      ]
     },
     "metadata": {},
     "output_type": "display_data"
    }
   ],
   "source": [
    "m = 1000\n",
    "n = 10\n",
    "d = 3\n",
    "\n",
    "max_iters = 1000\n",
    "true_sigma = 0.9\n",
    "X, Z_true, W_true = generate(m, n , d, true_sigma) \n",
    "\n",
    "d = n \n",
    "alphas, mu, sigma, W_mu, W_sigma, evidences = VarEM(X, m, n, d, max_iters= max_iters)\n"
   ]
  },
  {
   "cell_type": "code",
   "execution_count": 60,
   "metadata": {},
   "outputs": [
    {
     "data": {
      "image/png": "[encoded data removed]",
      "text/plain": [
       "<Figure size 640x480 with 1 Axes>"
      ]
     },
     "metadata": {},
     "output_type": "display_data"
    }
   ],
   "source": [
    "alpha_ = np.stack(alphas, axis = 0)\n",
    "alpha_[alpha_ > 1e20] = 1e20\n",
    "alpha_.shape\n",
    "for i in range(d):\n",
    "    plt.plot(np.log(alpha_[:, i]))\n",
    "    \n",
    "plt.show()"
   ]
  },
  {
   "cell_type": "code",
   "execution_count": 61,
   "metadata": {},
   "outputs": [
    {
     "data": {
      "text/plain": [
       "array([0.09656302, 0.50911394, 0.85424975, 0.06006418,        inf,\n",
       "              inf, 0.30131571, 0.57809838,        inf,        inf])"
      ]
     },
     "execution_count": 61,
     "metadata": {},
     "output_type": "execute_result"
    }
   ],
   "source": [
    "alphas[-1]"
   ]
  },
  {
   "cell_type": "markdown",
   "metadata": {},
   "source": [
    "видим, что происходит отбор параметров, однако алгоритм не смог отобрать только два параметра.\n"
   ]
  }
 ],
 "metadata": {
  "kernelspec": {
   "display_name": "ml",
   "language": "python",
   "name": "python3"
  },
  "language_info": {
   "codemirror_mode": {
    "name": "ipython",
    "version": 3
   },
   "file_extension": ".py",
   "mimetype": "text/x-python",
   "name": "python",
   "nbconvert_exporter": "python",
   "pygments_lexer": "ipython3",
   "version": "3.11.4"
  }
 },
 "nbformat": 4,
 "nbformat_minor": 2
}
